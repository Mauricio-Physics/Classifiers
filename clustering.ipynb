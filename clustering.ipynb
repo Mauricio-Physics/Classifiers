{
 "cells": [
  {
   "cell_type": "code",
   "execution_count": 1,
   "id": "7a7f8dc6-3c90-4610-bd57-3087947f9303",
   "metadata": {},
   "outputs": [],
   "source": [
    "from datasets import load_from_disk, Dataset\n",
    "import numpy as np \n",
    "from tqdm import tqdm\n",
    "from sklearn.cluster import KMeans\n",
    "import os\n",
    "from sklearn.metrics import pairwise_distances\n",
    "from sklearn.cluster import DBSCAN, SpectralClustering\n",
    "from sklearn.neighbors import kneighbors_graph\n",
    "\n",
    "os.cpu_count()\n",
    "affinity_mask = {0,1,2,3,4,5,6,7,8,9,10,11,12,13,14,15,16,17,18,19,20,21,22,23,24,25,26,27,28,29,30,31,32,33,34,35,36,37,38,39}\n",
    "os.sched_setaffinity(0, affinity_mask) "
   ]
  },
  {
   "cell_type": "code",
   "execution_count": 2,
   "id": "26aafee1-412b-4002-9867-978f21934522",
   "metadata": {},
   "outputs": [],
   "source": [
    "ds = load_from_disk('translation/checkpoint_train04100/')\n",
    "text = ds['text']\n",
    "idx_valid = [0,3,5,6,7,8,9,11,12,16,17,18,19,22,23,24,25,26,27,28,29,31,33,35,36,37,39,\n",
    "     40,41,43,45,46,47,49,50,51,52,53,54,55,56,57,58,59,60,61,62,63,64,66,67,68,\n",
    "     69,70,71,72,73,74,75,76,77,78,79,80,81,82,84,85,86,87,88,89,90,91,92,93,94,\n",
    "     95,98,99]\n",
    "text_checked = [text[i] for i in idx_valid]\n",
    "ds_it = load_from_disk('manufacturing_dataset_ita/checkpoint00198')\n",
    "scores_it = ds_it['score']\n",
    "b = np.argwhere(np.array(scores_it)>.95)\n",
    "text_it_all = ds_it['text']\n",
    "text_it = [text_it_all[i[0]] for i in b]\n",
    "test_cl = text_checked + text_it\n"
   ]
  },
  {
   "cell_type": "code",
   "execution_count": 3,
   "id": "90b0e9c6-7bf9-43fd-bc94-a7689ffb5207",
   "metadata": {},
   "outputs": [],
   "source": [
    "emb = np.load('embeddings.npy')"
   ]
  },
  {
   "cell_type": "code",
   "execution_count": 4,
   "id": "afb4c0f4-a102-484e-9f4d-b691c729ba58",
   "metadata": {},
   "outputs": [],
   "source": [
    "#clustering = DBSCAN(eps=, min_samples=1024, metric='cosine_similarity').fit(emb)\n",
    "kmeans = KMeans(n_clusters=40, random_state=0, init=\"k-means++\").fit(emb)\n"
   ]
  },
  {
   "cell_type": "markdown",
   "id": "5510f196",
   "metadata": {},
   "source": [
    "Andiamo a prendere tutti i clusters con almeno un documento inerente all'ambito manifattuiero (quelli tradotti) e tramite una classificazione manuale di alcuni elementi di questi cluster andiamo a decidere se includere o meno l'intero cluster nel dataset"
   ]
  },
  {
   "cell_type": "markdown",
   "id": "d41d6a29",
   "metadata": {},
   "source": []
  }
 ],
 "metadata": {
  "kernelspec": {
   "display_name": "Python 3 (ipykernel)",
   "language": "python",
   "name": "python3"
  },
  "language_info": {
   "codemirror_mode": {
    "name": "ipython",
    "version": 3
   },
   "file_extension": ".py",
   "mimetype": "text/x-python",
   "name": "python",
   "nbconvert_exporter": "python",
   "pygments_lexer": "ipython3",
   "version": "3.10.12"
  }
 },
 "nbformat": 4,
 "nbformat_minor": 5
}
